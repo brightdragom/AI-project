{
 "cells": [
  {
   "cell_type": "code",
   "execution_count": 77,
   "id": "injured-river",
   "metadata": {},
   "outputs": [],
   "source": [
    "import pandas as pd\n",
    "import tensorflow as tf\n",
    "import numpy as np"
   ]
  },
  {
   "cell_type": "code",
   "execution_count": 78,
   "id": "heated-eugene",
   "metadata": {},
   "outputs": [],
   "source": [
    "df1 = pd.read_csv(\"./smuai/train_data_clinical_patient.csv\")\n",
    "df2 = pd.read_csv(\"./smuai/train_data_cna.csv\")\n",
    "#df3 = pd.read_csv(\"./smuai/train_data_mutations.csv\")\n",
    "#df4 = pd.read_csv(\"./smuai/train_data_rna-seq.csv\")"
   ]
  },
  {
   "cell_type": "code",
   "execution_count": 87,
   "id": "directed-religion",
   "metadata": {},
   "outputs": [
    {
     "name": "stdout",
     "output_type": "stream",
     "text": [
      "<class 'pandas.core.frame.DataFrame'>\n",
      "RangeIndex: 2697 entries, 0 to 2696\n",
      "Data columns (total 37 columns):\n",
      " #   Column                                      Non-Null Count  Dtype  \n",
      "---  ------                                      --------------  -----  \n",
      " 0   PATIENT_ID                                  2697 non-null   object \n",
      " 1   CANCER_TYPE_ACRONYM                         2697 non-null   object \n",
      " 2   OTHER_PATIENT_ID                            2644 non-null   object \n",
      " 3   AGE                                         2612 non-null   float64\n",
      " 4   SEX                                         2644 non-null   object \n",
      " 5   AJCC_PATHOLOGIC_TUMOR_STAGE                 2060 non-null   object \n",
      " 6   AJCC_STAGING_EDITION                        2055 non-null   object \n",
      " 7   DAYS_LAST_FOLLOWUP                          2069 non-null   object \n",
      " 8   DAYS_TO_BIRTH                               2598 non-null   object \n",
      " 9   DAYS_TO_INITIAL_PATHOLOGIC_DIAGNOSIS        2611 non-null   float64\n",
      " 10  ETHNICITY                                   2176 non-null   object \n",
      " 11  FORM_COMPLETION_DATE                        2642 non-null   object \n",
      " 12  HISTORY_NEOADJUVANT_TRTYN                   2644 non-null   object \n",
      " 13  ICD_10                                      2643 non-null   object \n",
      " 14  ICD_O_3_HISTOLOGY                           2643 non-null   object \n",
      " 15  ICD_O_3_SITE                                2643 non-null   object \n",
      " 16  INFORMED_CONSENT_VERIFIED                   2644 non-null   object \n",
      " 17  NEW_TUMOR_EVENT_AFTER_INITIAL_TREATMENT     2308 non-null   object \n",
      " 18  PATH_M_STAGE                                2107 non-null   object \n",
      " 19  PATH_N_STAGE                                2121 non-null   object \n",
      " 20  PATH_T_STAGE                                2115 non-null   object \n",
      " 21  PERSON_NEOPLASM_CANCER_STATUS               2346 non-null   object \n",
      " 22  PRIMARY_LYMPH_NODE_PRESENTATION_ASSESSMENT  828 non-null    object \n",
      " 23  PRIOR_DX                                    2644 non-null   object \n",
      " 24  RACE                                        2338 non-null   object \n",
      " 25  RADIATION_THERAPY                           2419 non-null   object \n",
      " 26  WEIGHT                                      797 non-null    float64\n",
      " 27  CENTER                                      2697 non-null   object \n",
      " 28  IN_PANCANPATHWAYS_FREEZE                    2697 non-null   object \n",
      " 29  OS_STATUS                                   2637 non-null   object \n",
      " 30  OS_MONTHS                                   2613 non-null   float64\n",
      " 31  DSS_STATUS                                  2539 non-null   object \n",
      " 32  DSS_MONTHS                                  2612 non-null   float64\n",
      " 33  DFS_STATUS                                  1167 non-null   object \n",
      " 34  DFS_MONTHS                                  1161 non-null   float64\n",
      " 35  PFS_STATUS                                  2637 non-null   object \n",
      " 36  PFS_MONTHS                                  2615 non-null   float64\n",
      "dtypes: float64(7), object(30)\n",
      "memory usage: 779.7+ KB\n",
      "None\n",
      "['PATIENT_ID' 'CANCER_TYPE_ACRONYM' 'OTHER_PATIENT_ID' 'AGE' 'SEX'\n",
      " 'AJCC_PATHOLOGIC_TUMOR_STAGE' 'AJCC_STAGING_EDITION' 'DAYS_LAST_FOLLOWUP'\n",
      " 'DAYS_TO_BIRTH' 'DAYS_TO_INITIAL_PATHOLOGIC_DIAGNOSIS' 'ETHNICITY'\n",
      " 'FORM_COMPLETION_DATE' 'HISTORY_NEOADJUVANT_TRTYN' 'ICD_10'\n",
      " 'ICD_O_3_HISTOLOGY' 'ICD_O_3_SITE' 'INFORMED_CONSENT_VERIFIED'\n",
      " 'NEW_TUMOR_EVENT_AFTER_INITIAL_TREATMENT' 'PATH_M_STAGE' 'PATH_N_STAGE'\n",
      " 'PATH_T_STAGE' 'PERSON_NEOPLASM_CANCER_STATUS'\n",
      " 'PRIMARY_LYMPH_NODE_PRESENTATION_ASSESSMENT' 'PRIOR_DX' 'RACE'\n",
      " 'RADIATION_THERAPY' 'WEIGHT' 'CENTER' 'IN_PANCANPATHWAYS_FREEZE'\n",
      " 'OS_STATUS' 'OS_MONTHS' 'DSS_STATUS' 'DSS_MONTHS' 'DFS_STATUS'\n",
      " 'DFS_MONTHS' 'PFS_STATUS' 'PFS_MONTHS']\n",
      "<class 'pandas.core.frame.DataFrame'>\n",
      "RangeIndex: 25128 entries, 0 to 25127\n",
      "Columns: 2714 entries, Hugo_Symbol to TCGA-WY-A85E-01\n",
      "dtypes: float64(2713), object(1)\n",
      "memory usage: 520.3+ MB\n",
      "None\n",
      "['Hugo_Symbol' 'Entrez_Gene_Id' 'TCGA-3M-AB46-01' ... 'TCGA-WY-A85C-01'\n",
      " 'TCGA-WY-A85D-01' 'TCGA-WY-A85E-01']\n",
      "================================================================================\n"
     ]
    }
   ],
   "source": [
    "#print(df1.info())\n",
    "#print(df1.columns.values)\n",
    "#df1 = df1.dropna(axis=1)\n",
    "print(df1.info())\n",
    "print(df1.columns.values)\n",
    "print(df2.info())\n",
    "print(df2.columns.values)\n",
    "print(\"=\"*80)\n",
    "#print(df3.info())\n",
    "#print(df3.columns.values)\n",
    "#print(df4.info())\n",
    "#print(df4.columns.values)"
   ]
  },
  {
   "cell_type": "code",
   "execution_count": 93,
   "id": "catholic-shark",
   "metadata": {},
   "outputs": [
    {
     "name": "stdout",
     "output_type": "stream",
     "text": [
      "Index(['PATIENT_ID', 'CANCER_TYPE_ACRONYM', 'OTHER_PATIENT_ID', 'AGE', 'SEX',\n",
      "       'AJCC_PATHOLOGIC_TUMOR_STAGE', 'AJCC_STAGING_EDITION',\n",
      "       'DAYS_LAST_FOLLOWUP', 'DAYS_TO_BIRTH',\n",
      "       'DAYS_TO_INITIAL_PATHOLOGIC_DIAGNOSIS', 'ETHNICITY',\n",
      "       'FORM_COMPLETION_DATE', 'HISTORY_NEOADJUVANT_TRTYN', 'ICD_10',\n",
      "       'ICD_O_3_HISTOLOGY', 'ICD_O_3_SITE', 'INFORMED_CONSENT_VERIFIED',\n",
      "       'NEW_TUMOR_EVENT_AFTER_INITIAL_TREATMENT', 'PATH_M_STAGE',\n",
      "       'PATH_N_STAGE', 'PATH_T_STAGE', 'PERSON_NEOPLASM_CANCER_STATUS',\n",
      "       'PRIMARY_LYMPH_NODE_PRESENTATION_ASSESSMENT', 'PRIOR_DX', 'RACE',\n",
      "       'RADIATION_THERAPY', 'WEIGHT', 'CENTER', 'IN_PANCANPATHWAYS_FREEZE',\n",
      "       'OS_STATUS', 'OS_MONTHS', 'DSS_STATUS', 'DSS_MONTHS', 'DFS_STATUS',\n",
      "       'DFS_MONTHS', 'PFS_STATUS', 'PFS_MONTHS'],\n",
      "      dtype='object')\n",
      "====================================================================================================\n",
      "Index(['Hugo_Symbol', 'Entrez_Gene_Id', 'TCGA-3M-AB46-01', 'TCGA-3M-AB47-01',\n",
      "       'TCGA-B7-5816-01', 'TCGA-B7-5818-01', 'TCGA-B7-A5TI-01',\n",
      "       'TCGA-B7-A5TJ-01', 'TCGA-B7-A5TK-01', 'TCGA-B7-A5TN-01',\n",
      "       ...\n",
      "       'TCGA-VW-A8FI-01', 'TCGA-W9-A837-01', 'TCGA-WH-A86K-01',\n",
      "       'TCGA-WY-A858-01', 'TCGA-WY-A859-01', 'TCGA-WY-A85A-01',\n",
      "       'TCGA-WY-A85B-01', 'TCGA-WY-A85C-01', 'TCGA-WY-A85D-01',\n",
      "       'TCGA-WY-A85E-01'],\n",
      "      dtype='object', length=2714)\n",
      "0                ACAP3\n",
      "1               ACTRT2\n",
      "2                 AGRN\n",
      "3              ANKRD65\n",
      "4               ATAD3A\n",
      "             ...      \n",
      "25123             VBP1\n",
      "25124    DDX11L16|chrX\n",
      "25125        IL9R|chrX\n",
      "25126       SPRY3|chrX\n",
      "25127       VAMP7|chrX\n",
      "Name: Hugo_Symbol, Length: 25128, dtype: object\n",
      "<class 'pandas.core.frame.DataFrame'>\n",
      "Index: 2714 entries, Hugo_Symbol to TCGA-WY-A85E-01\n",
      "Columns: 25128 entries, 0 to 25127\n",
      "dtypes: object(25128)\n",
      "memory usage: 520.4+ MB\n",
      "None\n",
      "[    0     1     2 ... 25125 25126 25127]\n"
     ]
    }
   ],
   "source": [
    "print(df1.columns)\n",
    "print(\"=\"*100)\n",
    "print(df2.columns)\n",
    "\n",
    "print(df2['Hugo_Symbol'])\n",
    "\n",
    "df3 = np.transpose(df2)\n",
    "print(df3.info())\n",
    "print(df3.columns.values)"
   ]
  },
  {
   "cell_type": "code",
   "execution_count": 31,
   "id": "latin-elevation",
   "metadata": {},
   "outputs": [],
   "source": [
    "data_id = df1['PATIENT_ID']\n",
    "data_y = df1['CANCER_TYPE_ACRONYM']\n",
    "data_x = df1[['CENTER', 'IN_PANCANPATHWAYS_FREEZE']]\n"
   ]
  },
  {
   "cell_type": "code",
   "execution_count": 33,
   "id": "cutting-commissioner",
   "metadata": {},
   "outputs": [
    {
     "name": "stdout",
     "output_type": "stream",
     "text": [
      "                                  CENTER IN_PANCANPATHWAYS_FREEZE\n",
      "0    University of Kansas Medical Center                      Yes\n",
      "1    University of Kansas Medical Center                      Yes\n",
      "2                               Cureline                      Yes\n",
      "3                               Cureline                      Yes\n",
      "4                               Cureline                      Yes\n",
      "..                                   ...                      ...\n",
      "804                             Asterand                      Yes\n",
      "805                             Asterand                      Yes\n",
      "806                             Asterand                      Yes\n",
      "807                             Asterand                      Yes\n",
      "808                             Asterand                      Yes\n",
      "\n",
      "[809 rows x 2 columns]\n",
      "<class 'pandas.core.frame.DataFrame'>\n",
      "Int64Index: 809 entries, 0 to 808\n",
      "Data columns (total 2 columns):\n",
      " #   Column                    Non-Null Count  Dtype \n",
      "---  ------                    --------------  ----- \n",
      " 0   CENTER                    809 non-null    object\n",
      " 1   IN_PANCANPATHWAYS_FREEZE  809 non-null    object\n",
      "dtypes: object(2)\n",
      "memory usage: 19.0+ KB\n",
      "None\n",
      "[['University of Kansas Medical Center' 'Yes']\n",
      " ['University of Kansas Medical Center' 'Yes']\n",
      " ['Cureline' 'Yes']\n",
      " ...\n",
      " ['Asterand' 'Yes']\n",
      " ['Asterand' 'Yes']\n",
      " ['Asterand' 'Yes']]\n",
      "0       STAD\n",
      "1       STAD\n",
      "2       STAD\n",
      "3       STAD\n",
      "4       STAD\n",
      "        ... \n",
      "2692     LGG\n",
      "2693     LGG\n",
      "2694     LGG\n",
      "2695     LGG\n",
      "2696     LGG\n",
      "Name: CANCER_TYPE_ACRONYM, Length: 2697, dtype: object\n"
     ]
    }
   ],
   "source": [
    "print(train_x)\n",
    "print(train_x.info())\n",
    "print(train_x.values)\n",
    "print(data_y)"
   ]
  },
  {
   "cell_type": "code",
   "execution_count": 34,
   "id": "final-cowboy",
   "metadata": {},
   "outputs": [
    {
     "name": "stdout",
     "output_type": "stream",
     "text": [
      "                                   CENTER IN_PANCANPATHWAYS_FREEZE\n",
      "0     University of Kansas Medical Center                      Yes\n",
      "1     University of Kansas Medical Center                      Yes\n",
      "2                                Cureline                      Yes\n",
      "3                                Cureline                      Yes\n",
      "4                                Cureline                      Yes\n",
      "...                                   ...                      ...\n",
      "2692                        Johns Hopkins                      Yes\n",
      "2693                        Johns Hopkins                      Yes\n",
      "2694                        Johns Hopkins                      Yes\n",
      "2695                        Johns Hopkins                      Yes\n",
      "2696                          MD Anderson                      Yes\n",
      "\n",
      "[2697 rows x 2 columns]\n",
      "==================================================\n",
      "0       STAD\n",
      "1       STAD\n",
      "2       STAD\n",
      "3       STAD\n",
      "4       STAD\n",
      "        ... \n",
      "2692     LGG\n",
      "2693     LGG\n",
      "2694     LGG\n",
      "2695     LGG\n",
      "2696     LGG\n",
      "Name: CANCER_TYPE_ACRONYM, Length: 2697, dtype: object\n"
     ]
    }
   ],
   "source": [
    "print(data_x)\n",
    "print('='*50)\n",
    "print(data_y)"
   ]
  },
  {
   "cell_type": "code",
   "execution_count": 35,
   "id": "increased-choice",
   "metadata": {},
   "outputs": [
    {
     "name": "stdout",
     "output_type": "stream",
     "text": [
      "<class 'list'>\n",
      "['The University of New South Wales', 'Essen', 'Washington University - Rush University', \"St. Joseph's Hospital AZ\", 'University of Miami', 'UNC', 'Indivumed', 'Montefiore Medical Center', 'Thomas Jefferson University', 'University of North Carolina', 'University of Utah', 'MD Anderson', 'Case Western', 'Johns Hopkins', 'Yale', 'Boston Medical Center', 'MSKCC', 'Alberta Health Services', 'Washington University - St. Louis', 'Norfolk and Norwich Hospital', 'Peter MacCallum Cancer Center', 'University of Kansas Medical Center', 'UCSF', 'Tayside Tissue Bank', 'Greater Poland Cancer Center', 'Ontario Institute for Cancer Research (OICR)', 'University of California San Francisco', 'ABS - Lahey Clinic', 'Capital Biosciences', 'Washington University - Cleveland Clinic', 'ABS - IUPUI', 'Gundersen Lutheran Health System', 'Washington University - Alabama', 'Cureline', 'CHI-Penrose Colorado', 'John Wayne Cancer Center', 'International Genomics Consortium', 'Fondazione-Besta', 'Asterand', 'Hartford', 'University of Minnesota', \"St Joseph's Medical Center (MD)\", 'Henry Ford Hospital', 'Northwestern University', 'Barretos Cancer Hospital', 'Washington University - Emory', 'University of Sao Paulo', 'Spectrum Health', 'Albert Einstein Medical Center', 'IDI-IRCCS', 'Prince Charles Hospital', 'University of Chicago', 'University of Pittsburgh', 'Harvard', 'Washington University - CALGB', 'Washington University', 'ILSBio', 'University of Puerto Rico', 'Huntsman Cancer Institute', 'Moffitt Cancer Center', 'Thoraxklinik at University Hospital Heidelberg', 'Dept of Neurosurgery at University of Heidelberg', 'Molecular Response', \"St. Joseph's Medical Center-(MD)\", 'Christiana Healthcare', 'Global Bioclinical-Moldova', 'BLN - Baylor', 'University Of Michigan', 'Emory University', 'National Cancer Center Korea', 'Washington University - Mayo Clinic', 'University of Sydney', 'Fox Chase', 'Roswell', 'Candler', 'Mary Bird Perkins Cancer Center - Our Lady of the Lake', 'Roswell Park', 'Greenville Health System', 'Medical College of Wisconsin', 'University of California San Diego', 'Mayo Clinic - Rochester', 'Case Western - St Joes', 'Ontario Institute for Cancer Research (OICR)/Ottawa', 'Hartford Hospital', 'Duke University', \"Saint Mary's Health Care\", 'Medical College of Georgia', 'University of Florida', 'University Health Network, Toronto', 'Yale University', 'Proteogenex, Inc', 'Duke', 'University of Kansas', 'Washington University - NYU', 'MD Anderson Cancer Center']\n"
     ]
    }
   ],
   "source": [
    "center = df1['CENTER']\n",
    "list_center = center.values.tolist()\n",
    "print(type(list_center))\n",
    "\n",
    "ex_list = list(set(list_center))\n",
    "print(ex_list)"
   ]
  },
  {
   "cell_type": "code",
   "execution_count": 36,
   "id": "wound-somewhere",
   "metadata": {},
   "outputs": [
    {
     "name": "stdout",
     "output_type": "stream",
     "text": [
      "[[75 1]\n",
      " [75 1]\n",
      " [14 1]\n",
      " ...\n",
      " [36 1]\n",
      " [36 1]\n",
      " [37 1]]\n"
     ]
    }
   ],
   "source": [
    "from sklearn import preprocessing\n",
    "\n",
    "X = data_x[['CENTER', 'IN_PANCANPATHWAYS_FREEZE']].values\n",
    "color_le = preprocessing.LabelEncoder()\n",
    "X[:,0] = color_le.fit_transform(X[:,0])\n",
    "X[:,1] = color_le.fit_transform(X[:,1])\n",
    "print(X)"
   ]
  },
  {
   "cell_type": "code",
   "execution_count": 42,
   "id": "tamil-trash",
   "metadata": {},
   "outputs": [],
   "source": [
    "from sklearn.model_selection import train_test_split\n",
    "\n",
    "train_x, test_x, train_y, test_y = train_test_split(X, data_y, test_size=0.7, shuffle=False, random_state=1004)"
   ]
  },
  {
   "cell_type": "code",
   "execution_count": 44,
   "id": "banned-overall",
   "metadata": {},
   "outputs": [
    {
     "data": {
      "text/plain": [
       "RandomForestClassifier(n_estimators=5, random_state=2)"
      ]
     },
     "execution_count": 44,
     "metadata": {},
     "output_type": "execute_result"
    }
   ],
   "source": [
    "from sklearn.ensemble import RandomForestClassifier\n",
    "\n",
    "forest = RandomForestClassifier(n_estimators=5, random_state=2)\n",
    "forest.fit(train_x, train_y)"
   ]
  },
  {
   "cell_type": "code",
   "execution_count": 52,
   "id": "cooked-buying",
   "metadata": {},
   "outputs": [
    {
     "name": "stdout",
     "output_type": "stream",
     "text": [
      "훈련 세트 정확도: 0.878\n",
      "테스트 세트 정확도: 0.066\n"
     ]
    }
   ],
   "source": [
    "\n",
    "forest = RandomForestClassifier(n_estimators=100, random_state=0)\n",
    "forest.fit(train_x, train_y)\n",
    "\n",
    "print(\"훈련 세트 정확도: {:.3f}\".format(forest.score(train_x, train_y)))\n",
    "print(\"테스트 세트 정확도: {:.3f}\".format(forest.score(test_x, test_y)))"
   ]
  },
  {
   "cell_type": "code",
   "execution_count": 55,
   "id": "bridal-symbol",
   "metadata": {},
   "outputs": [
    {
     "name": "stdout",
     "output_type": "stream",
     "text": [
      "훈련 세트 정확도: 0.874\n",
      "테스트 세트 정확도: 0.066\n"
     ]
    }
   ],
   "source": [
    "from sklearn.ensemble import GradientBoostingClassifier\n",
    "\n",
    "gbrt = GradientBoostingClassifier(random_state=0)\n",
    "gbrt.fit(train_x, train_y)\n",
    "\n",
    "print(\"훈련 세트 정확도: {:.3f}\".format(gbrt.score(train_x, train_y)))\n",
    "print(\"테스트 세트 정확도: {:.3f}\".format(gbrt.score(test_x, test_y)))"
   ]
  },
  {
   "cell_type": "code",
   "execution_count": null,
   "id": "developmental-darwin",
   "metadata": {},
   "outputs": [],
   "source": []
  }
 ],
 "metadata": {
  "kernelspec": {
   "display_name": "Python 3",
   "language": "python",
   "name": "python3"
  },
  "language_info": {
   "codemirror_mode": {
    "name": "ipython",
    "version": 3
   },
   "file_extension": ".py",
   "mimetype": "text/x-python",
   "name": "python",
   "nbconvert_exporter": "python",
   "pygments_lexer": "ipython3",
   "version": "3.9.2"
  }
 },
 "nbformat": 4,
 "nbformat_minor": 5
}
